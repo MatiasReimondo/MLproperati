{
 "cells": [
  {
   "cell_type": "markdown",
   "metadata": {},
   "source": [
    "# Machine Learning\n",
    "\n",
    "Analisis basico de los datos en el dataframe y aplicacion de un par de algoritmos de machine learning"
   ]
  },
  {
   "cell_type": "code",
   "execution_count": 1,
   "metadata": {
    "collapsed": true
   },
   "outputs": [],
   "source": [
    "import numpy as np\n",
    "import pandas as pd\n",
    "import matplotlib.pyplot as plt\n",
    "from sklearn.metrics import mean_squared_error\n",
    "from sklearn import neighbors\n",
    "from sklearn import preprocessing\n",
    "from sklearn.preprocessing import LabelEncoder \n",
    "from sklearn.metrics import mean_squared_error\n",
    "from sklearn.metrics import median_absolute_error\n",
    "\n",
    "from sklearn.linear_model import ElasticNet, Lasso,  BayesianRidge, LassoLarsIC\n",
    "from sklearn.ensemble import RandomForestRegressor,  GradientBoostingRegressor\n",
    "from sklearn.kernel_ridge import KernelRidge\n",
    "from sklearn.pipeline import make_pipeline\n",
    "from sklearn.preprocessing import RobustScaler\n",
    "from sklearn.base import BaseEstimator, TransformerMixin, RegressorMixin, clone\n",
    "from sklearn.model_selection import KFold, cross_val_score, train_test_split\n",
    "from sklearn.metrics import mean_squared_error\n"
   ]
  },
  {
   "cell_type": "code",
   "execution_count": 2,
   "metadata": {
    "scrolled": true
   },
   "outputs": [
    {
     "name": "stdout",
     "output_type": "stream",
     "text": [
      "<class 'pandas.core.frame.DataFrame'>\n",
      "RangeIndex: 196719 entries, 0 to 196718\n",
      "Data columns (total 27 columns):\n",
      "id                            196719 non-null object\n",
      "created_on                    196719 non-null object\n",
      "operation                     196719 non-null object\n",
      "property_type                 196719 non-null object\n",
      "place_name                    196670 non-null object\n",
      "place_with_parent_names       196719 non-null object\n",
      "country_name                  196719 non-null object\n",
      "state_name                    196719 non-null object\n",
      "geonames_id                   164653 non-null float64\n",
      "lat-lon                       130239 non-null object\n",
      "lat                           130239 non-null float64\n",
      "lon                           130239 non-null float64\n",
      "price                         165687 non-null float64\n",
      "currency                      165687 non-null object\n",
      "price_aprox_local_currency    165687 non-null float64\n",
      "price_aprox_usd               165687 non-null float64\n",
      "surface_total_in_m2           146678 non-null float64\n",
      "surface_covered_in_m2         165053 non-null float64\n",
      "price_usd_per_m2              125729 non-null float64\n",
      "price_per_m2                  142858 non-null float64\n",
      "floor                         13290 non-null float64\n",
      "rooms                         128122 non-null float64\n",
      "expenses                      16942 non-null float64\n",
      "properati_url                 196719 non-null object\n",
      "description                   196714 non-null object\n",
      "title                         196719 non-null object\n",
      "image_thumbnail               192706 non-null object\n",
      "dtypes: float64(13), object(14)\n",
      "memory usage: 40.5+ MB\n"
     ]
    }
   ],
   "source": [
    "df = pd.read_csv('/home/matias/Escritorio/ML/data.csv')\n",
    "df.info()"
   ]
  },
  {
   "cell_type": "code",
   "execution_count": 3,
   "metadata": {},
   "outputs": [
    {
     "data": {
      "text/html": [
       "<div>\n",
       "<style>\n",
       "    .dataframe thead tr:only-child th {\n",
       "        text-align: right;\n",
       "    }\n",
       "\n",
       "    .dataframe thead th {\n",
       "        text-align: left;\n",
       "    }\n",
       "\n",
       "    .dataframe tbody tr th {\n",
       "        vertical-align: top;\n",
       "    }\n",
       "</style>\n",
       "<table border=\"1\" class=\"dataframe\">\n",
       "  <thead>\n",
       "    <tr style=\"text-align: right;\">\n",
       "      <th></th>\n",
       "      <th>property_type</th>\n",
       "      <th>surface_total_in_m2</th>\n",
       "      <th>place_name</th>\n",
       "      <th>rooms</th>\n",
       "      <th>price</th>\n",
       "    </tr>\n",
       "  </thead>\n",
       "  <tbody>\n",
       "    <tr>\n",
       "      <th>0</th>\n",
       "      <td>house</td>\n",
       "      <td>335.0</td>\n",
       "      <td>Merlo</td>\n",
       "      <td>NaN</td>\n",
       "      <td>1199000.0</td>\n",
       "    </tr>\n",
       "    <tr>\n",
       "      <th>1</th>\n",
       "      <td>house</td>\n",
       "      <td>0.0</td>\n",
       "      <td>Pinamar</td>\n",
       "      <td>NaN</td>\n",
       "      <td>NaN</td>\n",
       "    </tr>\n",
       "    <tr>\n",
       "      <th>2</th>\n",
       "      <td>house</td>\n",
       "      <td>526.0</td>\n",
       "      <td>Pinamar</td>\n",
       "      <td>NaN</td>\n",
       "      <td>200000.0</td>\n",
       "    </tr>\n",
       "    <tr>\n",
       "      <th>3</th>\n",
       "      <td>house</td>\n",
       "      <td>312.0</td>\n",
       "      <td>Palermo Viejo</td>\n",
       "      <td>NaN</td>\n",
       "      <td>2000000.0</td>\n",
       "    </tr>\n",
       "    <tr>\n",
       "      <th>4</th>\n",
       "      <td>apartment</td>\n",
       "      <td>0.0</td>\n",
       "      <td>Puerto Madero</td>\n",
       "      <td>NaN</td>\n",
       "      <td>570000.0</td>\n",
       "    </tr>\n",
       "  </tbody>\n",
       "</table>\n",
       "</div>"
      ],
      "text/plain": [
       "  property_type  surface_total_in_m2     place_name  rooms      price\n",
       "0         house                335.0          Merlo    NaN  1199000.0\n",
       "1         house                  0.0        Pinamar    NaN        NaN\n",
       "2         house                526.0        Pinamar    NaN   200000.0\n",
       "3         house                312.0  Palermo Viejo    NaN  2000000.0\n",
       "4     apartment                  0.0  Puerto Madero    NaN   570000.0"
      ]
     },
     "execution_count": 3,
     "metadata": {},
     "output_type": "execute_result"
    }
   ],
   "source": [
    "# Primero separamos los datos que nos interesan analizar para este primer analisis decidi tomar\n",
    "#  place_name property_type rooms\n",
    "\n",
    "train = df[['property_type','surface_total_in_m2', 'place_name', 'rooms','price']]\n",
    "train =train[train['place_name'].notnull()]\n",
    "train.head()"
   ]
  },
  {
   "cell_type": "code",
   "execution_count": 4,
   "metadata": {
    "collapsed": true
   },
   "outputs": [],
   "source": [
    "# Rellenamos la superficie faltante con el promedio por barrios\n",
    "train['surface_total_in_m2'] = train.groupby('place_name')['surface_total_in_m2'].transform(lambda x: x.fillna(x.median()))"
   ]
  },
  {
   "cell_type": "code",
   "execution_count": 5,
   "metadata": {},
   "outputs": [
    {
     "name": "stdout",
     "output_type": "stream",
     "text": [
      "<class 'pandas.core.frame.DataFrame'>\n",
      "Int64Index: 108657 entries, 30 to 196718\n",
      "Data columns (total 5 columns):\n",
      "property_type          108657 non-null object\n",
      "surface_total_in_m2    108657 non-null float64\n",
      "place_name             108657 non-null object\n",
      "rooms                  108657 non-null float64\n",
      "price                  108657 non-null float64\n",
      "dtypes: float64(3), object(2)\n",
      "memory usage: 5.0+ MB\n"
     ]
    }
   ],
   "source": [
    "# Podriamos completar los valores nulos pero por ahora vamos a dropear los nulos\n",
    "train.dropna(inplace=True)\n",
    "train.info()\n"
   ]
  },
  {
   "cell_type": "code",
   "execution_count": 24,
   "metadata": {},
   "outputs": [
    {
     "data": {
      "text/plain": [
       "108657"
      ]
     },
     "execution_count": 24,
     "metadata": {},
     "output_type": "execute_result"
    }
   ],
   "source": [
    "len(train)"
   ]
  },
  {
   "cell_type": "code",
   "execution_count": 25,
   "metadata": {},
   "outputs": [
    {
     "data": {
      "text/html": [
       "<div>\n",
       "<style>\n",
       "    .dataframe thead tr:only-child th {\n",
       "        text-align: right;\n",
       "    }\n",
       "\n",
       "    .dataframe thead th {\n",
       "        text-align: left;\n",
       "    }\n",
       "\n",
       "    .dataframe tbody tr th {\n",
       "        vertical-align: top;\n",
       "    }\n",
       "</style>\n",
       "<table border=\"1\" class=\"dataframe\">\n",
       "  <thead>\n",
       "    <tr style=\"text-align: right;\">\n",
       "      <th></th>\n",
       "      <th>property_type</th>\n",
       "      <th>surface_total_in_m2</th>\n",
       "      <th>place_name</th>\n",
       "      <th>rooms</th>\n",
       "      <th>price</th>\n",
       "    </tr>\n",
       "  </thead>\n",
       "  <tbody>\n",
       "    <tr>\n",
       "      <th>30</th>\n",
       "      <td>house</td>\n",
       "      <td>300.0</td>\n",
       "      <td>Mataderos</td>\n",
       "      <td>5.0</td>\n",
       "      <td>185000.0</td>\n",
       "    </tr>\n",
       "    <tr>\n",
       "      <th>31</th>\n",
       "      <td>apartment</td>\n",
       "      <td>199.0</td>\n",
       "      <td>Pilar</td>\n",
       "      <td>2.0</td>\n",
       "      <td>97000.0</td>\n",
       "    </tr>\n",
       "    <tr>\n",
       "      <th>32</th>\n",
       "      <td>store</td>\n",
       "      <td>265.0</td>\n",
       "      <td>San Isidro</td>\n",
       "      <td>1.0</td>\n",
       "      <td>750000.0</td>\n",
       "    </tr>\n",
       "    <tr>\n",
       "      <th>34</th>\n",
       "      <td>house</td>\n",
       "      <td>138.5</td>\n",
       "      <td>San Martín de los Andes</td>\n",
       "      <td>4.0</td>\n",
       "      <td>480000.0</td>\n",
       "    </tr>\n",
       "    <tr>\n",
       "      <th>35</th>\n",
       "      <td>house</td>\n",
       "      <td>138.5</td>\n",
       "      <td>San Martín de los Andes</td>\n",
       "      <td>3.0</td>\n",
       "      <td>150000.0</td>\n",
       "    </tr>\n",
       "  </tbody>\n",
       "</table>\n",
       "</div>"
      ],
      "text/plain": [
       "   property_type  surface_total_in_m2               place_name  rooms  \\\n",
       "30         house                300.0                Mataderos    5.0   \n",
       "31     apartment                199.0                    Pilar    2.0   \n",
       "32         store                265.0               San Isidro    1.0   \n",
       "34         house                138.5  San Martín de los Andes    4.0   \n",
       "35         house                138.5  San Martín de los Andes    3.0   \n",
       "\n",
       "       price  \n",
       "30  185000.0  \n",
       "31   97000.0  \n",
       "32  750000.0  \n",
       "34  480000.0  \n",
       "35  150000.0  "
      ]
     },
     "execution_count": 25,
     "metadata": {},
     "output_type": "execute_result"
    }
   ],
   "source": [
    "train. head()"
   ]
  },
  {
   "cell_type": "code",
   "execution_count": 31,
   "metadata": {},
   "outputs": [
    {
     "name": "stdout",
     "output_type": "stream",
     "text": [
      "<class 'pandas.core.frame.DataFrame'>\n",
      "RangeIndex: 14166 entries, 0 to 14165\n",
      "Data columns (total 17 columns):\n",
      "id                         14166 non-null int64\n",
      "created_on                 14166 non-null object\n",
      "property_type              14166 non-null object\n",
      "operation                  14166 non-null object\n",
      "place_name                 14166 non-null object\n",
      "place_with_parent_names    14166 non-null object\n",
      "country_name               14166 non-null object\n",
      "state_name                 14166 non-null object\n",
      "lat-lon                    10487 non-null object\n",
      "lat                        10487 non-null float64\n",
      "lon                        10487 non-null float64\n",
      "surface_total_in_m2        11853 non-null float64\n",
      "surface_covered_in_m2      13005 non-null float64\n",
      "floor                      1368 non-null float64\n",
      "rooms                      7500 non-null float64\n",
      "expenses                   2543 non-null object\n",
      "description                14166 non-null object\n",
      "dtypes: float64(6), int64(1), object(10)\n",
      "memory usage: 1.8+ MB\n"
     ]
    }
   ],
   "source": [
    "test = pd.read_csv('/home/matias/Escritorio/ML/test.csv')\n",
    "test.info()"
   ]
  },
  {
   "cell_type": "code",
   "execution_count": 32,
   "metadata": {},
   "outputs": [
    {
     "name": "stdout",
     "output_type": "stream",
     "text": [
      "<class 'pandas.core.frame.DataFrame'>\n",
      "RangeIndex: 14166 entries, 0 to 14165\n",
      "Data columns (total 17 columns):\n",
      "id                         14166 non-null int64\n",
      "created_on                 14166 non-null object\n",
      "property_type              14166 non-null object\n",
      "operation                  14166 non-null object\n",
      "place_name                 14166 non-null object\n",
      "place_with_parent_names    14166 non-null object\n",
      "country_name               14166 non-null object\n",
      "state_name                 14166 non-null object\n",
      "lat-lon                    10487 non-null object\n",
      "lat                        10487 non-null float64\n",
      "lon                        10487 non-null float64\n",
      "surface_total_in_m2        14154 non-null float64\n",
      "surface_covered_in_m2      13005 non-null float64\n",
      "floor                      1368 non-null float64\n",
      "rooms                      7500 non-null float64\n",
      "expenses                   2543 non-null object\n",
      "description                14166 non-null object\n",
      "dtypes: float64(6), int64(1), object(10)\n",
      "memory usage: 1.8+ MB\n"
     ]
    }
   ],
   "source": [
    "# completamos la surface total in m2 asi ya queda completo\n",
    "test['surface_total_in_m2'] = test.groupby('place_name')['surface_total_in_m2'].transform(lambda x: x.fillna(x.median()))\n",
    "test.info()"
   ]
  },
  {
   "cell_type": "code",
   "execution_count": null,
   "metadata": {
    "collapsed": true
   },
   "outputs": [],
   "source": [
    "# Convertimos los datos en valores numericos"
   ]
  },
  {
   "cell_type": "code",
   "execution_count": 33,
   "metadata": {
    "collapsed": true
   },
   "outputs": [],
   "source": [
    "lb_make = LabelEncoder()\n",
    "train['property_type_encoded'] = lb_make.fit_transform(train['property_type'])\n",
    "train['place_name_encoded'] = lb_make.fit_transform(train['place_name'])\n",
    "test['property_type_encoded'] = lb_make.fit_transform(test['property_type'])\n",
    "test['place_name_encoded'] = lb_make.fit_transform(test['place_name'])\n",
    "\n"
   ]
  },
  {
   "cell_type": "code",
   "execution_count": 38,
   "metadata": {},
   "outputs": [
    {
     "name": "stdout",
     "output_type": "stream",
     "text": [
      "<class 'pandas.core.frame.DataFrame'>\n",
      "Int64Index: 108657 entries, 30 to 196718\n",
      "Data columns (total 5 columns):\n",
      "property_type_encoded    108657 non-null int64\n",
      "place_name_encoded       108657 non-null int64\n",
      "surface_total_in_m2      108657 non-null float64\n",
      "rooms                    108657 non-null float64\n",
      "price                    108657 non-null float64\n",
      "dtypes: float64(3), int64(2)\n",
      "memory usage: 10.0 MB\n"
     ]
    }
   ],
   "source": [
    "train = train.loc[:, ['property_type_encoded','place_name_encoded','surface_total_in_m2','rooms','price']]\n",
    "train.info()\n"
   ]
  },
  {
   "cell_type": "code",
   "execution_count": 57,
   "metadata": {},
   "outputs": [
    {
     "name": "stdout",
     "output_type": "stream",
     "text": [
      "<class 'pandas.core.frame.DataFrame'>\n",
      "Int64Index: 8657 entries, 181158 to 196718\n",
      "Data columns (total 4 columns):\n",
      "property_type_encoded    8657 non-null int64\n",
      "place_name_encoded       8657 non-null int64\n",
      "surface_total_in_m2      8657 non-null float64\n",
      "rooms                    8657 non-null float64\n",
      "dtypes: float64(2), int64(2)\n",
      "memory usage: 338.2 KB\n"
     ]
    }
   ],
   "source": [
    "testData = train[100000:]\n",
    "results = train[100000:]\n",
    "testData = testData.loc[:, ['property_type_encoded','place_name_encoded','surface_total_in_m2','rooms']]\n",
    "testData.info()\n"
   ]
  },
  {
   "cell_type": "code",
   "execution_count": 40,
   "metadata": {},
   "outputs": [
    {
     "name": "stdout",
     "output_type": "stream",
     "text": [
      "<class 'pandas.core.frame.DataFrame'>\n",
      "Int64Index: 100000 entries, 30 to 181157\n",
      "Data columns (total 5 columns):\n",
      "property_type_encoded    100000 non-null int64\n",
      "place_name_encoded       100000 non-null int64\n",
      "surface_total_in_m2      100000 non-null float64\n",
      "rooms                    100000 non-null float64\n",
      "price                    100000 non-null float64\n",
      "dtypes: float64(3), int64(2)\n",
      "memory usage: 4.6 MB\n"
     ]
    }
   ],
   "source": [
    "trainData = train[0:100000]\n",
    "trainData.info()"
   ]
  },
  {
   "cell_type": "code",
   "execution_count": 88,
   "metadata": {
    "collapsed": true
   },
   "outputs": [],
   "source": [
    "#Validation function\n",
    "n_folds = 5\n",
    "\n",
    "def rmsle_cv(model):\n",
    "    kf = KFold(n_folds, shuffle=True, random_state=42).get_n_splits(trainData.values)\n",
    "    rmse= np.sqrt(-cross_val_score(model, train_no_prices.values,train_prices.values, scoring=\"neg_mean_squared_error\", cv = kf))\n",
    "    return(rmse)\n",
    "\n",
    "\n"
   ]
  },
  {
   "cell_type": "code",
   "execution_count": 89,
   "metadata": {
    "collapsed": true
   },
   "outputs": [],
   "source": [
    "lasso = make_pipeline(RobustScaler(), Lasso(alpha =0.0005, random_state=1))"
   ]
  },
  {
   "cell_type": "code",
   "execution_count": 90,
   "metadata": {},
   "outputs": [
    {
     "name": "stdout",
     "output_type": "stream",
     "text": [
      "\n",
      "Lasso score: 820957.9396 (50806.2808)\n",
      "\n"
     ]
    }
   ],
   "source": [
    "score = rmsle_cv(lasso)\n",
    "print(\"\\nLasso score: {:.4f} ({:.4f})\\n\".format(score.mean(), score.std()))\n"
   ]
  },
  {
   "cell_type": "code",
   "execution_count": 58,
   "metadata": {
    "collapsed": true
   },
   "outputs": [],
   "source": [
    "knn = neighbors.KNeighborsRegressor(7, weights=\"distance\", algorithm=\"kd_tree\")"
   ]
  },
  {
   "cell_type": "code",
   "execution_count": 59,
   "metadata": {
    "collapsed": true
   },
   "outputs": [],
   "source": [
    "train_no_prices = trainData.loc[:, ['property_type_encoded', 'place_name_encoded','surface_total_in_m2','rooms']]\n",
    "train_prices = trainData.loc[:, 'price']"
   ]
  },
  {
   "cell_type": "code",
   "execution_count": 86,
   "metadata": {},
   "outputs": [
    {
     "name": "stdout",
     "output_type": "stream",
     "text": [
      "\n",
      "KNN score: 602.9705 (209.7774)\n",
      "\n"
     ]
    }
   ],
   "source": [
    "score = rmsle_cv(knn)\n",
    "print(\"\\nKNN score: {:.4f} ({:.4f})\\n\".format(score.mean(), score.std()))\n"
   ]
  },
  {
   "cell_type": "code",
   "execution_count": 87,
   "metadata": {
    "collapsed": true
   },
   "outputs": [],
   "source": [
    "predictions = knn.fit(train_no_prices, train_prices).predict(testData)\n",
    "predictions = predictions.flatten()"
   ]
  },
  {
   "cell_type": "code",
   "execution_count": 61,
   "metadata": {},
   "outputs": [
    {
     "data": {
      "text/html": [
       "<div>\n",
       "<style>\n",
       "    .dataframe thead tr:only-child th {\n",
       "        text-align: right;\n",
       "    }\n",
       "\n",
       "    .dataframe thead th {\n",
       "        text-align: left;\n",
       "    }\n",
       "\n",
       "    .dataframe tbody tr th {\n",
       "        vertical-align: top;\n",
       "    }\n",
       "</style>\n",
       "<table border=\"1\" class=\"dataframe\">\n",
       "  <thead>\n",
       "    <tr style=\"text-align: right;\">\n",
       "      <th></th>\n",
       "      <th>reales</th>\n",
       "      <th>predichos</th>\n",
       "    </tr>\n",
       "  </thead>\n",
       "  <tbody>\n",
       "    <tr>\n",
       "      <th>181158</th>\n",
       "      <td>1457000.0</td>\n",
       "      <td>1.152748e+06</td>\n",
       "    </tr>\n",
       "    <tr>\n",
       "      <th>181159</th>\n",
       "      <td>1450000.0</td>\n",
       "      <td>1.152748e+06</td>\n",
       "    </tr>\n",
       "    <tr>\n",
       "      <th>181160</th>\n",
       "      <td>1508000.0</td>\n",
       "      <td>1.152748e+06</td>\n",
       "    </tr>\n",
       "    <tr>\n",
       "      <th>181161</th>\n",
       "      <td>210000.0</td>\n",
       "      <td>2.565000e+05</td>\n",
       "    </tr>\n",
       "    <tr>\n",
       "      <th>181162</th>\n",
       "      <td>1508000.0</td>\n",
       "      <td>1.152748e+06</td>\n",
       "    </tr>\n",
       "    <tr>\n",
       "      <th>181163</th>\n",
       "      <td>1508000.0</td>\n",
       "      <td>1.152748e+06</td>\n",
       "    </tr>\n",
       "    <tr>\n",
       "      <th>181164</th>\n",
       "      <td>1453000.0</td>\n",
       "      <td>1.152748e+06</td>\n",
       "    </tr>\n",
       "    <tr>\n",
       "      <th>181165</th>\n",
       "      <td>1511000.0</td>\n",
       "      <td>1.152748e+06</td>\n",
       "    </tr>\n",
       "    <tr>\n",
       "      <th>181166</th>\n",
       "      <td>1511000.0</td>\n",
       "      <td>1.152748e+06</td>\n",
       "    </tr>\n",
       "    <tr>\n",
       "      <th>181167</th>\n",
       "      <td>75000.0</td>\n",
       "      <td>4.892857e+05</td>\n",
       "    </tr>\n",
       "    <tr>\n",
       "      <th>181168</th>\n",
       "      <td>240000.0</td>\n",
       "      <td>1.869070e+05</td>\n",
       "    </tr>\n",
       "    <tr>\n",
       "      <th>181169</th>\n",
       "      <td>70000.0</td>\n",
       "      <td>7.264286e+04</td>\n",
       "    </tr>\n",
       "    <tr>\n",
       "      <th>181170</th>\n",
       "      <td>158891.0</td>\n",
       "      <td>8.438171e+04</td>\n",
       "    </tr>\n",
       "    <tr>\n",
       "      <th>181171</th>\n",
       "      <td>96000.0</td>\n",
       "      <td>8.669329e+04</td>\n",
       "    </tr>\n",
       "    <tr>\n",
       "      <th>181172</th>\n",
       "      <td>200000.0</td>\n",
       "      <td>4.100774e+05</td>\n",
       "    </tr>\n",
       "    <tr>\n",
       "      <th>181173</th>\n",
       "      <td>162167.0</td>\n",
       "      <td>8.438171e+04</td>\n",
       "    </tr>\n",
       "    <tr>\n",
       "      <th>181174</th>\n",
       "      <td>167000.0</td>\n",
       "      <td>1.319500e+05</td>\n",
       "    </tr>\n",
       "    <tr>\n",
       "      <th>181175</th>\n",
       "      <td>250000.0</td>\n",
       "      <td>1.625000e+05</td>\n",
       "    </tr>\n",
       "    <tr>\n",
       "      <th>181176</th>\n",
       "      <td>111386.0</td>\n",
       "      <td>6.477700e+04</td>\n",
       "    </tr>\n",
       "    <tr>\n",
       "      <th>181178</th>\n",
       "      <td>165443.0</td>\n",
       "      <td>8.438171e+04</td>\n",
       "    </tr>\n",
       "    <tr>\n",
       "      <th>181179</th>\n",
       "      <td>113756.0</td>\n",
       "      <td>6.477700e+04</td>\n",
       "    </tr>\n",
       "    <tr>\n",
       "      <th>181181</th>\n",
       "      <td>135000.0</td>\n",
       "      <td>1.376000e+05</td>\n",
       "    </tr>\n",
       "    <tr>\n",
       "      <th>181183</th>\n",
       "      <td>285667.0</td>\n",
       "      <td>1.142670e+05</td>\n",
       "    </tr>\n",
       "    <tr>\n",
       "      <th>181185</th>\n",
       "      <td>450000.0</td>\n",
       "      <td>3.443801e+05</td>\n",
       "    </tr>\n",
       "    <tr>\n",
       "      <th>181186</th>\n",
       "      <td>228886.0</td>\n",
       "      <td>1.289551e+05</td>\n",
       "    </tr>\n",
       "    <tr>\n",
       "      <th>181188</th>\n",
       "      <td>1500000.0</td>\n",
       "      <td>3.782574e+05</td>\n",
       "    </tr>\n",
       "    <tr>\n",
       "      <th>181189</th>\n",
       "      <td>195000.0</td>\n",
       "      <td>2.092328e+05</td>\n",
       "    </tr>\n",
       "    <tr>\n",
       "      <th>181190</th>\n",
       "      <td>215000.0</td>\n",
       "      <td>2.102857e+05</td>\n",
       "    </tr>\n",
       "    <tr>\n",
       "      <th>181191</th>\n",
       "      <td>360000.0</td>\n",
       "      <td>3.350000e+05</td>\n",
       "    </tr>\n",
       "    <tr>\n",
       "      <th>181192</th>\n",
       "      <td>93000.0</td>\n",
       "      <td>8.669329e+04</td>\n",
       "    </tr>\n",
       "    <tr>\n",
       "      <th>...</th>\n",
       "      <td>...</td>\n",
       "      <td>...</td>\n",
       "    </tr>\n",
       "    <tr>\n",
       "      <th>196677</th>\n",
       "      <td>180000.0</td>\n",
       "      <td>2.565302e+05</td>\n",
       "    </tr>\n",
       "    <tr>\n",
       "      <th>196678</th>\n",
       "      <td>98000.0</td>\n",
       "      <td>2.672832e+05</td>\n",
       "    </tr>\n",
       "    <tr>\n",
       "      <th>196679</th>\n",
       "      <td>370000.0</td>\n",
       "      <td>3.516667e+05</td>\n",
       "    </tr>\n",
       "    <tr>\n",
       "      <th>196680</th>\n",
       "      <td>163000.0</td>\n",
       "      <td>1.450000e+05</td>\n",
       "    </tr>\n",
       "    <tr>\n",
       "      <th>196681</th>\n",
       "      <td>129000.0</td>\n",
       "      <td>2.247448e+05</td>\n",
       "    </tr>\n",
       "    <tr>\n",
       "      <th>196682</th>\n",
       "      <td>95000.0</td>\n",
       "      <td>1.420824e+05</td>\n",
       "    </tr>\n",
       "    <tr>\n",
       "      <th>196684</th>\n",
       "      <td>470000.0</td>\n",
       "      <td>7.572857e+05</td>\n",
       "    </tr>\n",
       "    <tr>\n",
       "      <th>196685</th>\n",
       "      <td>650000.0</td>\n",
       "      <td>4.300000e+05</td>\n",
       "    </tr>\n",
       "    <tr>\n",
       "      <th>196686</th>\n",
       "      <td>370000.0</td>\n",
       "      <td>7.572857e+05</td>\n",
       "    </tr>\n",
       "    <tr>\n",
       "      <th>196687</th>\n",
       "      <td>1420000.0</td>\n",
       "      <td>7.572857e+05</td>\n",
       "    </tr>\n",
       "    <tr>\n",
       "      <th>196688</th>\n",
       "      <td>1000000.0</td>\n",
       "      <td>4.892857e+05</td>\n",
       "    </tr>\n",
       "    <tr>\n",
       "      <th>196689</th>\n",
       "      <td>900000.0</td>\n",
       "      <td>7.092857e+05</td>\n",
       "    </tr>\n",
       "    <tr>\n",
       "      <th>196690</th>\n",
       "      <td>1100000.0</td>\n",
       "      <td>5.285714e+05</td>\n",
       "    </tr>\n",
       "    <tr>\n",
       "      <th>196691</th>\n",
       "      <td>950000.0</td>\n",
       "      <td>7.092857e+05</td>\n",
       "    </tr>\n",
       "    <tr>\n",
       "      <th>196692</th>\n",
       "      <td>950000.0</td>\n",
       "      <td>7.092857e+05</td>\n",
       "    </tr>\n",
       "    <tr>\n",
       "      <th>196693</th>\n",
       "      <td>55000.0</td>\n",
       "      <td>4.892857e+05</td>\n",
       "    </tr>\n",
       "    <tr>\n",
       "      <th>196694</th>\n",
       "      <td>83000.0</td>\n",
       "      <td>7.092857e+05</td>\n",
       "    </tr>\n",
       "    <tr>\n",
       "      <th>196695</th>\n",
       "      <td>82500.0</td>\n",
       "      <td>7.092857e+05</td>\n",
       "    </tr>\n",
       "    <tr>\n",
       "      <th>196696</th>\n",
       "      <td>2000000.0</td>\n",
       "      <td>7.572857e+05</td>\n",
       "    </tr>\n",
       "    <tr>\n",
       "      <th>196697</th>\n",
       "      <td>130000.0</td>\n",
       "      <td>7.572857e+05</td>\n",
       "    </tr>\n",
       "    <tr>\n",
       "      <th>196698</th>\n",
       "      <td>1200000.0</td>\n",
       "      <td>5.611526e+05</td>\n",
       "    </tr>\n",
       "    <tr>\n",
       "      <th>196699</th>\n",
       "      <td>170000.0</td>\n",
       "      <td>7.572857e+05</td>\n",
       "    </tr>\n",
       "    <tr>\n",
       "      <th>196701</th>\n",
       "      <td>92000.0</td>\n",
       "      <td>1.045000e+05</td>\n",
       "    </tr>\n",
       "    <tr>\n",
       "      <th>196702</th>\n",
       "      <td>265000.0</td>\n",
       "      <td>2.870000e+05</td>\n",
       "    </tr>\n",
       "    <tr>\n",
       "      <th>196705</th>\n",
       "      <td>62000.0</td>\n",
       "      <td>6.782199e+04</td>\n",
       "    </tr>\n",
       "    <tr>\n",
       "      <th>196708</th>\n",
       "      <td>55000.0</td>\n",
       "      <td>9.035714e+05</td>\n",
       "    </tr>\n",
       "    <tr>\n",
       "      <th>196714</th>\n",
       "      <td>1050000.0</td>\n",
       "      <td>6.156250e+05</td>\n",
       "    </tr>\n",
       "    <tr>\n",
       "      <th>196715</th>\n",
       "      <td>135000.0</td>\n",
       "      <td>3.221559e+05</td>\n",
       "    </tr>\n",
       "    <tr>\n",
       "      <th>196717</th>\n",
       "      <td>70000.0</td>\n",
       "      <td>3.372500e+05</td>\n",
       "    </tr>\n",
       "    <tr>\n",
       "      <th>196718</th>\n",
       "      <td>990000.0</td>\n",
       "      <td>4.835714e+05</td>\n",
       "    </tr>\n",
       "  </tbody>\n",
       "</table>\n",
       "<p>8657 rows × 2 columns</p>\n",
       "</div>"
      ],
      "text/plain": [
       "           reales     predichos\n",
       "181158  1457000.0  1.152748e+06\n",
       "181159  1450000.0  1.152748e+06\n",
       "181160  1508000.0  1.152748e+06\n",
       "181161   210000.0  2.565000e+05\n",
       "181162  1508000.0  1.152748e+06\n",
       "181163  1508000.0  1.152748e+06\n",
       "181164  1453000.0  1.152748e+06\n",
       "181165  1511000.0  1.152748e+06\n",
       "181166  1511000.0  1.152748e+06\n",
       "181167    75000.0  4.892857e+05\n",
       "181168   240000.0  1.869070e+05\n",
       "181169    70000.0  7.264286e+04\n",
       "181170   158891.0  8.438171e+04\n",
       "181171    96000.0  8.669329e+04\n",
       "181172   200000.0  4.100774e+05\n",
       "181173   162167.0  8.438171e+04\n",
       "181174   167000.0  1.319500e+05\n",
       "181175   250000.0  1.625000e+05\n",
       "181176   111386.0  6.477700e+04\n",
       "181178   165443.0  8.438171e+04\n",
       "181179   113756.0  6.477700e+04\n",
       "181181   135000.0  1.376000e+05\n",
       "181183   285667.0  1.142670e+05\n",
       "181185   450000.0  3.443801e+05\n",
       "181186   228886.0  1.289551e+05\n",
       "181188  1500000.0  3.782574e+05\n",
       "181189   195000.0  2.092328e+05\n",
       "181190   215000.0  2.102857e+05\n",
       "181191   360000.0  3.350000e+05\n",
       "181192    93000.0  8.669329e+04\n",
       "...           ...           ...\n",
       "196677   180000.0  2.565302e+05\n",
       "196678    98000.0  2.672832e+05\n",
       "196679   370000.0  3.516667e+05\n",
       "196680   163000.0  1.450000e+05\n",
       "196681   129000.0  2.247448e+05\n",
       "196682    95000.0  1.420824e+05\n",
       "196684   470000.0  7.572857e+05\n",
       "196685   650000.0  4.300000e+05\n",
       "196686   370000.0  7.572857e+05\n",
       "196687  1420000.0  7.572857e+05\n",
       "196688  1000000.0  4.892857e+05\n",
       "196689   900000.0  7.092857e+05\n",
       "196690  1100000.0  5.285714e+05\n",
       "196691   950000.0  7.092857e+05\n",
       "196692   950000.0  7.092857e+05\n",
       "196693    55000.0  4.892857e+05\n",
       "196694    83000.0  7.092857e+05\n",
       "196695    82500.0  7.092857e+05\n",
       "196696  2000000.0  7.572857e+05\n",
       "196697   130000.0  7.572857e+05\n",
       "196698  1200000.0  5.611526e+05\n",
       "196699   170000.0  7.572857e+05\n",
       "196701    92000.0  1.045000e+05\n",
       "196702   265000.0  2.870000e+05\n",
       "196705    62000.0  6.782199e+04\n",
       "196708    55000.0  9.035714e+05\n",
       "196714  1050000.0  6.156250e+05\n",
       "196715   135000.0  3.221559e+05\n",
       "196717    70000.0  3.372500e+05\n",
       "196718   990000.0  4.835714e+05\n",
       "\n",
       "[8657 rows x 2 columns]"
      ]
     },
     "execution_count": 61,
     "metadata": {},
     "output_type": "execute_result"
    }
   ],
   "source": [
    "comparacion = pd.DataFrame()\n",
    "comparacion['reales'] = results['price']\n",
    "comparacion['predichos'] = predictions\n",
    "comparacion"
   ]
  },
  {
   "cell_type": "code",
   "execution_count": null,
   "metadata": {
    "collapsed": true
   },
   "outputs": [],
   "source": []
  },
  {
   "cell_type": "code",
   "execution_count": null,
   "metadata": {
    "collapsed": true
   },
   "outputs": [],
   "source": []
  },
  {
   "cell_type": "code",
   "execution_count": null,
   "metadata": {
    "collapsed": true
   },
   "outputs": [],
   "source": []
  },
  {
   "cell_type": "code",
   "execution_count": null,
   "metadata": {
    "collapsed": true
   },
   "outputs": [],
   "source": []
  },
  {
   "cell_type": "code",
   "execution_count": null,
   "metadata": {
    "collapsed": true
   },
   "outputs": [],
   "source": []
  },
  {
   "cell_type": "code",
   "execution_count": null,
   "metadata": {
    "collapsed": true
   },
   "outputs": [],
   "source": []
  },
  {
   "cell_type": "code",
   "execution_count": null,
   "metadata": {
    "collapsed": true
   },
   "outputs": [],
   "source": []
  },
  {
   "cell_type": "code",
   "execution_count": null,
   "metadata": {
    "collapsed": true
   },
   "outputs": [],
   "source": []
  },
  {
   "cell_type": "code",
   "execution_count": null,
   "metadata": {
    "collapsed": true
   },
   "outputs": [],
   "source": []
  }
 ],
 "metadata": {
  "kernelspec": {
   "display_name": "Python 2",
   "language": "python",
   "name": "python2"
  },
  "language_info": {
   "codemirror_mode": {
    "name": "ipython",
    "version": 2
   },
   "file_extension": ".py",
   "mimetype": "text/x-python",
   "name": "python",
   "nbconvert_exporter": "python",
   "pygments_lexer": "ipython2",
   "version": "2.7.13"
  }
 },
 "nbformat": 4,
 "nbformat_minor": 2
}
