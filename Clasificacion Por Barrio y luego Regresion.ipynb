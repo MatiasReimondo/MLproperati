{
 "cells": [
  {
   "cell_type": "code",
   "execution_count": null,
   "metadata": {
    "collapsed": true
   },
   "outputs": [],
   "source": []
  },
  {
   "cell_type": "code",
   "execution_count": 63,
   "metadata": {
    "collapsed": true
   },
   "outputs": [],
   "source": [
    "import pandas as pd\n",
    "import numpy as np\n",
    "from datetime import datetime\n",
    "import matplotlib.pyplot as plt\n",
    "from datetime import timedelta, date\n",
    "import matplotlib.dates as mdates\n",
    "import math\n",
    "import warnings\n",
    "from sklearn.preprocessing import LabelEncoder \n",
    "from sklearn.metrics import mean_squared_error\n",
    "from sklearn.metrics import median_absolute_error\n",
    "from sklearn.metrics import accuracy_score\n",
    "from sklearn import neighbors\n",
    "\n",
    "warnings.filterwarnings('ignore')\n",
    "\n",
    "#Imports necesarios"
   ]
  },
  {
   "cell_type": "code",
   "execution_count": 8,
   "metadata": {},
   "outputs": [
    {
     "name": "stdout",
     "output_type": "stream",
     "text": [
      "<class 'pandas.core.frame.DataFrame'>\n",
      "RangeIndex: 196414 entries, 0 to 196413\n",
      "Data columns (total 17 columns):\n",
      "Unnamed: 0                  196414 non-null int64\n",
      "id                          196414 non-null object\n",
      "created_on                  196414 non-null object\n",
      "property_type_encoded       196414 non-null int64\n",
      "place_name_encoded          196414 non-null int64\n",
      "state_name_encoded          196414 non-null int64\n",
      "lat                         196414 non-null float64\n",
      "lon                         196414 non-null float64\n",
      "surface_covered_in_m2       196414 non-null float64\n",
      "surface_total_in_m2         196414 non-null float64\n",
      "floor                       196414 non-null float64\n",
      "rooms                       196414 non-null float64\n",
      "price                       196414 non-null float64\n",
      "distancia_obelisco          196414 non-null float64\n",
      "distancia_minima_subte      196414 non-null float64\n",
      "distancia_minima_privado    196414 non-null float64\n",
      "distancia_minima_publico    196414 non-null float64\n",
      "dtypes: float64(11), int64(4), object(2)\n",
      "memory usage: 25.5+ MB\n"
     ]
    }
   ],
   "source": [
    "#Primero importamos el dataframe de entrenamiento\n",
    "train = pd.read_csv('/home/matias/Escritorio/ML/trainPreProcess.csv')\n",
    "train.info()"
   ]
  },
  {
   "cell_type": "code",
   "execution_count": 10,
   "metadata": {},
   "outputs": [
    {
     "name": "stdout",
     "output_type": "stream",
     "text": [
      "<class 'pandas.core.frame.DataFrame'>\n",
      "RangeIndex: 16414 entries, 180000 to 196413\n",
      "Data columns (total 17 columns):\n",
      "Unnamed: 0                  16414 non-null int64\n",
      "id                          16414 non-null object\n",
      "created_on                  16414 non-null object\n",
      "property_type_encoded       16414 non-null int64\n",
      "place_name_encoded          16414 non-null int64\n",
      "state_name_encoded          16414 non-null int64\n",
      "lat                         16414 non-null float64\n",
      "lon                         16414 non-null float64\n",
      "surface_covered_in_m2       16414 non-null float64\n",
      "surface_total_in_m2         16414 non-null float64\n",
      "floor                       16414 non-null float64\n",
      "rooms                       16414 non-null float64\n",
      "price                       16414 non-null float64\n",
      "distancia_obelisco          16414 non-null float64\n",
      "distancia_minima_subte      16414 non-null float64\n",
      "distancia_minima_privado    16414 non-null float64\n",
      "distancia_minima_publico    16414 non-null float64\n",
      "dtypes: float64(11), int64(4), object(2)\n",
      "memory usage: 2.1+ MB\n"
     ]
    }
   ],
   "source": [
    "#Separemos el dataframe en 2, uno para realizar croosvalidation y el otro para entrenar\n",
    "train1 = train[0:180000]\n",
    "cross = train[180000:]\n",
    "cross1 = train[180000:]\n",
    "cross.info()"
   ]
  },
  {
   "cell_type": "code",
   "execution_count": 12,
   "metadata": {},
   "outputs": [
    {
     "name": "stdout",
     "output_type": "stream",
     "text": [
      "<class 'pandas.core.frame.DataFrame'>\n",
      "RangeIndex: 180000 entries, 0 to 179999\n",
      "Data columns (total 3 columns):\n",
      "lat                   180000 non-null float64\n",
      "lon                   180000 non-null float64\n",
      "place_name_encoded    180000 non-null int64\n",
      "dtypes: float64(2), int64(1)\n",
      "memory usage: 4.1 MB\n"
     ]
    }
   ],
   "source": [
    "#Nos quedamos solo con la latitud y longitud de los barrios\n",
    "train2 = train1[['lat','lon','place_name_encoded']]\n",
    "cross2 = cross[['lat','lon']]\n",
    "crossValidation = cross1[['lat','lon','place_name_encoded']]\n",
    "train2.info()"
   ]
  },
  {
   "cell_type": "code",
   "execution_count": 14,
   "metadata": {
    "collapsed": true
   },
   "outputs": [],
   "source": [
    "# Import KNN\n",
    "from sklearn.neighbors import KNeighborsClassifier"
   ]
  },
  {
   "cell_type": "code",
   "execution_count": 15,
   "metadata": {
    "collapsed": true
   },
   "outputs": [],
   "source": [
    "knn = KNeighborsClassifier(n_neighbors=10)"
   ]
  },
  {
   "cell_type": "code",
   "execution_count": 16,
   "metadata": {},
   "outputs": [
    {
     "name": "stdout",
     "output_type": "stream",
     "text": [
      "KNeighborsClassifier(algorithm='auto', leaf_size=30, metric='minkowski',\n",
      "           metric_params=None, n_jobs=1, n_neighbors=10, p=2,\n",
      "           weights='uniform')\n"
     ]
    }
   ],
   "source": [
    "print knn"
   ]
  },
  {
   "cell_type": "code",
   "execution_count": 18,
   "metadata": {},
   "outputs": [
    {
     "name": "stdout",
     "output_type": "stream",
     "text": [
      "<class 'pandas.core.frame.DataFrame'>\n",
      "RangeIndex: 180000 entries, 0 to 179999\n",
      "Data columns (total 1 columns):\n",
      "place_name_encoded    180000 non-null int64\n",
      "dtypes: int64(1)\n",
      "memory usage: 1.4 MB\n"
     ]
    }
   ],
   "source": [
    "trainX = train2[['lat','lon']]\n",
    "trainY = train2[['place_name_encoded']]\n",
    "trainY.info()"
   ]
  },
  {
   "cell_type": "code",
   "execution_count": 19,
   "metadata": {},
   "outputs": [
    {
     "data": {
      "text/plain": [
       "KNeighborsClassifier(algorithm='auto', leaf_size=30, metric='minkowski',\n",
       "           metric_params=None, n_jobs=1, n_neighbors=10, p=2,\n",
       "           weights='uniform')"
      ]
     },
     "execution_count": 19,
     "metadata": {},
     "output_type": "execute_result"
    }
   ],
   "source": [
    "knn.fit(trainX,trainY)"
   ]
  },
  {
   "cell_type": "code",
   "execution_count": 20,
   "metadata": {},
   "outputs": [
    {
     "name": "stdout",
     "output_type": "stream",
     "text": [
      "[757 711 536 ..., 549 549 757]\n"
     ]
    }
   ],
   "source": [
    "predictions = knn.predict(cross2)\n",
    "print predictions"
   ]
  },
  {
   "cell_type": "code",
   "execution_count": 21,
   "metadata": {},
   "outputs": [
    {
     "data": {
      "text/html": [
       "<div>\n",
       "<style>\n",
       "    .dataframe thead tr:only-child th {\n",
       "        text-align: right;\n",
       "    }\n",
       "\n",
       "    .dataframe thead th {\n",
       "        text-align: left;\n",
       "    }\n",
       "\n",
       "    .dataframe tbody tr th {\n",
       "        vertical-align: top;\n",
       "    }\n",
       "</style>\n",
       "<table border=\"1\" class=\"dataframe\">\n",
       "  <thead>\n",
       "    <tr style=\"text-align: right;\">\n",
       "      <th></th>\n",
       "      <th>lat</th>\n",
       "      <th>lon</th>\n",
       "      <th>place_name_encoded</th>\n",
       "      <th>prediciones</th>\n",
       "    </tr>\n",
       "  </thead>\n",
       "  <tbody>\n",
       "    <tr>\n",
       "      <th>180000</th>\n",
       "      <td>-34.442442</td>\n",
       "      <td>-58.860950</td>\n",
       "      <td>757</td>\n",
       "      <td>757</td>\n",
       "    </tr>\n",
       "    <tr>\n",
       "      <th>180001</th>\n",
       "      <td>-34.402644</td>\n",
       "      <td>-58.648236</td>\n",
       "      <td>711</td>\n",
       "      <td>711</td>\n",
       "    </tr>\n",
       "    <tr>\n",
       "      <th>180002</th>\n",
       "      <td>-34.432240</td>\n",
       "      <td>-58.819492</td>\n",
       "      <td>536</td>\n",
       "      <td>536</td>\n",
       "    </tr>\n",
       "    <tr>\n",
       "      <th>180003</th>\n",
       "      <td>-34.622481</td>\n",
       "      <td>-58.843267</td>\n",
       "      <td>230</td>\n",
       "      <td>230</td>\n",
       "    </tr>\n",
       "    <tr>\n",
       "      <th>180004</th>\n",
       "      <td>-34.608786</td>\n",
       "      <td>-58.946258</td>\n",
       "      <td>453</td>\n",
       "      <td>453</td>\n",
       "    </tr>\n",
       "  </tbody>\n",
       "</table>\n",
       "</div>"
      ],
      "text/plain": [
       "              lat        lon  place_name_encoded  prediciones\n",
       "180000 -34.442442 -58.860950                 757          757\n",
       "180001 -34.402644 -58.648236                 711          711\n",
       "180002 -34.432240 -58.819492                 536          536\n",
       "180003 -34.622481 -58.843267                 230          230\n",
       "180004 -34.608786 -58.946258                 453          453"
      ]
     },
     "execution_count": 21,
     "metadata": {},
     "output_type": "execute_result"
    }
   ],
   "source": [
    "crossValidation['prediciones'] = predictions\n",
    "crossValidation.head()"
   ]
  },
  {
   "cell_type": "code",
   "execution_count": 24,
   "metadata": {},
   "outputs": [
    {
     "data": {
      "text/plain": [
       "33127.049226270254"
      ]
     },
     "execution_count": 24,
     "metadata": {},
     "output_type": "execute_result"
    }
   ],
   "source": [
    "score = mean_squared_error(crossValidation['place_name_encoded'], predictions)\n",
    "score"
   ]
  },
  {
   "cell_type": "code",
   "execution_count": 45,
   "metadata": {},
   "outputs": [],
   "source": [
    "k_trials = [151, 152, 153, 155,149]\n",
    "            \n",
    "weights = ['uniform', 'distance']\n",
    "\n",
    "algorithms = ['kd_tree', 'ball_tree']\n",
    "\n",
    "predictionList = []\n",
    "scoreList = []\n",
    "\n",
    "for k in k_trials:\n",
    "    for w in weights:\n",
    "        for a in algorithms:\n",
    "            knn = KNeighborsClassifier(n_neighbors=k, weights=w,algorithm=a)\n",
    "            predictions = knn.fit(trainX, trainY).predict(cross2)\n",
    "            predictions = predictions.flatten()\n",
    "            #Creo archivo para submit\n",
    "            predictionList.append('KNN-K'+str(k)+'-'+w+'-'+a)\n",
    "            score =accuracy_score(crossValidation['place_name_encoded'], predictions)\n",
    "            scoreList.append(score)"
   ]
  },
  {
   "cell_type": "code",
   "execution_count": 46,
   "metadata": {},
   "outputs": [
    {
     "name": "stdout",
     "output_type": "stream",
     "text": [
      "[0.81333008407457053, 0.81326916047276721, 0.85963202144510786, 0.85969294504691118, 0.81241623004752039, 0.81241623004752039, 0.85938832703789447, 0.85944925063969779, 0.81247715364932371, 0.81247715364932371, 0.85914463263068108, 0.85914463263068108, 0.81235530644571707, 0.81265992445473378, 0.85902278542707444, 0.85908370902887776, 0.81326916047276721, 0.81339100767637385, 0.8597538686487145, 0.85981479225051782]\n"
     ]
    }
   ],
   "source": [
    "print scoreList"
   ]
  },
  {
   "cell_type": "code",
   "execution_count": 48,
   "metadata": {},
   "outputs": [
    {
     "data": {
      "text/html": [
       "<div>\n",
       "<style>\n",
       "    .dataframe thead tr:only-child th {\n",
       "        text-align: right;\n",
       "    }\n",
       "\n",
       "    .dataframe thead th {\n",
       "        text-align: left;\n",
       "    }\n",
       "\n",
       "    .dataframe tbody tr th {\n",
       "        vertical-align: top;\n",
       "    }\n",
       "</style>\n",
       "<table border=\"1\" class=\"dataframe\">\n",
       "  <thead>\n",
       "    <tr style=\"text-align: right;\">\n",
       "      <th></th>\n",
       "      <th>parametros</th>\n",
       "      <th>score</th>\n",
       "    </tr>\n",
       "  </thead>\n",
       "  <tbody>\n",
       "    <tr>\n",
       "      <th>19</th>\n",
       "      <td>KNN-K149-distance-ball_tree</td>\n",
       "      <td>0.859815</td>\n",
       "    </tr>\n",
       "    <tr>\n",
       "      <th>18</th>\n",
       "      <td>KNN-K149-distance-kd_tree</td>\n",
       "      <td>0.859754</td>\n",
       "    </tr>\n",
       "    <tr>\n",
       "      <th>3</th>\n",
       "      <td>KNN-K151-distance-ball_tree</td>\n",
       "      <td>0.859693</td>\n",
       "    </tr>\n",
       "    <tr>\n",
       "      <th>2</th>\n",
       "      <td>KNN-K151-distance-kd_tree</td>\n",
       "      <td>0.859632</td>\n",
       "    </tr>\n",
       "    <tr>\n",
       "      <th>7</th>\n",
       "      <td>KNN-K152-distance-ball_tree</td>\n",
       "      <td>0.859449</td>\n",
       "    </tr>\n",
       "  </tbody>\n",
       "</table>\n",
       "</div>"
      ],
      "text/plain": [
       "                     parametros     score\n",
       "19  KNN-K149-distance-ball_tree  0.859815\n",
       "18    KNN-K149-distance-kd_tree  0.859754\n",
       "3   KNN-K151-distance-ball_tree  0.859693\n",
       "2     KNN-K151-distance-kd_tree  0.859632\n",
       "7   KNN-K152-distance-ball_tree  0.859449"
      ]
     },
     "execution_count": 48,
     "metadata": {},
     "output_type": "execute_result"
    }
   ],
   "source": [
    "resultados = pd.DataFrame()\n",
    "resultados['parametros'] = predictionList\n",
    "resultados['score'] = scoreList\n",
    "rOrder = resultados.sort_values('score',ascending= False)\n",
    "rOrder.head()\n"
   ]
  },
  {
   "cell_type": "code",
   "execution_count": null,
   "metadata": {
    "collapsed": true
   },
   "outputs": [],
   "source": [
    "#Dejamos esto un rato"
   ]
  },
  {
   "cell_type": "markdown",
   "metadata": {},
   "source": [
    "# Lasso"
   ]
  },
  {
   "cell_type": "code",
   "execution_count": 49,
   "metadata": {},
   "outputs": [
    {
     "name": "stdout",
     "output_type": "stream",
     "text": [
      "<class 'pandas.core.frame.DataFrame'>\n",
      "RangeIndex: 196414 entries, 0 to 196413\n",
      "Data columns (total 17 columns):\n",
      "Unnamed: 0                  196414 non-null int64\n",
      "id                          196414 non-null object\n",
      "created_on                  196414 non-null object\n",
      "property_type_encoded       196414 non-null int64\n",
      "place_name_encoded          196414 non-null int64\n",
      "state_name_encoded          196414 non-null int64\n",
      "lat                         196414 non-null float64\n",
      "lon                         196414 non-null float64\n",
      "surface_covered_in_m2       196414 non-null float64\n",
      "surface_total_in_m2         196414 non-null float64\n",
      "floor                       196414 non-null float64\n",
      "rooms                       196414 non-null float64\n",
      "price                       196414 non-null float64\n",
      "distancia_obelisco          196414 non-null float64\n",
      "distancia_minima_subte      196414 non-null float64\n",
      "distancia_minima_privado    196414 non-null float64\n",
      "distancia_minima_publico    196414 non-null float64\n",
      "dtypes: float64(11), int64(4), object(2)\n",
      "memory usage: 25.5+ MB\n"
     ]
    }
   ],
   "source": [
    "#Primero importamos el dataframe de entrenamiento\n",
    "train = pd.read_csv('/home/matias/Escritorio/ML/trainPreProcess.csv')\n",
    "train.info()"
   ]
  },
  {
   "cell_type": "code",
   "execution_count": 52,
   "metadata": {},
   "outputs": [
    {
     "name": "stdout",
     "output_type": "stream",
     "text": [
      "<class 'pandas.core.frame.DataFrame'>\n",
      "RangeIndex: 16414 entries, 180000 to 196413\n",
      "Data columns (total 14 columns):\n",
      "property_type_encoded       16414 non-null int64\n",
      "place_name_encoded          16414 non-null int64\n",
      "state_name_encoded          16414 non-null int64\n",
      "lat                         16414 non-null float64\n",
      "lon                         16414 non-null float64\n",
      "surface_covered_in_m2       16414 non-null float64\n",
      "surface_total_in_m2         16414 non-null float64\n",
      "floor                       16414 non-null float64\n",
      "rooms                       16414 non-null float64\n",
      "price                       16414 non-null float64\n",
      "distancia_obelisco          16414 non-null float64\n",
      "distancia_minima_subte      16414 non-null float64\n",
      "distancia_minima_publico    16414 non-null float64\n",
      "distancia_minima_privado    16414 non-null float64\n",
      "dtypes: float64(11), int64(3)\n",
      "memory usage: 1.8 MB\n"
     ]
    }
   ],
   "source": [
    "train2 =train[['property_type_encoded','place_name_encoded','state_name_encoded','lat','lon','surface_covered_in_m2','surface_total_in_m2','floor','rooms','price','distancia_obelisco','distancia_minima_subte','distancia_minima_publico','distancia_minima_privado']]\n",
    "train3 = train2[0:180000]\n",
    "cross = train2[180000:]\n",
    "cross2 = cross[['property_type_encoded','place_name_encoded','state_name_encoded','lat','lon','surface_covered_in_m2','surface_total_in_m2','floor','rooms','distancia_obelisco','distancia_minima_subte','distancia_minima_publico','distancia_minima_privado']]\n",
    "crossValidation = cross[['property_type_encoded','place_name_encoded','state_name_encoded','lat','lon','surface_covered_in_m2','surface_total_in_m2','floor','rooms','price','distancia_obelisco','distancia_minima_subte','distancia_minima_publico','distancia_minima_privado']]\n",
    "crossValidation.info()"
   ]
  },
  {
   "cell_type": "code",
   "execution_count": 53,
   "metadata": {},
   "outputs": [
    {
     "name": "stdout",
     "output_type": "stream",
     "text": [
      "<class 'pandas.core.frame.DataFrame'>\n",
      "RangeIndex: 180000 entries, 0 to 179999\n",
      "Data columns (total 1 columns):\n",
      "price    180000 non-null float64\n",
      "dtypes: float64(1)\n",
      "memory usage: 1.4 MB\n"
     ]
    }
   ],
   "source": [
    "trainLX = train3[['property_type_encoded','place_name_encoded','state_name_encoded','lat','lon','surface_covered_in_m2','surface_total_in_m2','floor','rooms','distancia_obelisco','distancia_minima_subte','distancia_minima_publico','distancia_minima_privado']]\n",
    "trainLY = train3[['price']]\n",
    "trainLY.info()"
   ]
  },
  {
   "cell_type": "code",
   "execution_count": 54,
   "metadata": {},
   "outputs": [
    {
     "name": "stdout",
     "output_type": "stream",
     "text": [
      "[ 315167.02856146  304104.83127752  313637.38695322 ...,  371069.20273539\n",
      "  274788.60751895  376797.69664081]\n"
     ]
    }
   ],
   "source": [
    "from sklearn import linear_model\n",
    "lasso= linear_model.Lasso(alpha = 0.1)\n",
    "lasso.fit(trainLX,trainLY)\n",
    "predictions = lasso.predict(cross2)\n",
    "print(predictions)\n"
   ]
  },
  {
   "cell_type": "code",
   "execution_count": 56,
   "metadata": {},
   "outputs": [],
   "source": [
    "a_trials = [0.1, 0.2, 0.3,0.45,0.66,0.88]\n",
    "            \n",
    "predictionList = []\n",
    "scoreList = []\n",
    "\n",
    "for a in a_trials:\n",
    "    lasso= linear_model.Lasso(alpha = a)\n",
    "    predictions = lasso.fit(trainLX, trainLY).predict(cross2)\n",
    "    predictions = predictions.flatten()\n",
    "    predictionList.append('lasso'+' '+str(a))\n",
    "    score =mean_squared_error(crossValidation['price'], predictions)\n",
    "    scoreList.append(score)"
   ]
  },
  {
   "cell_type": "code",
   "execution_count": 61,
   "metadata": {},
   "outputs": [
    {
     "name": "stdout",
     "output_type": "stream",
     "text": [
      "[1255336646994.3347, 1255336703614.8772, 1255336760236.0403, 1255336845168.9478, 1255336964077.3621, 1255337088651.0144]\n"
     ]
    }
   ],
   "source": [
    "resultados = pd.DataFrame()\n",
    "resultados['parametros'] = predictionList\n",
    "resultados['score'] = scoreList\n",
    "rOrder = resultados.sort_values('score',ascending= False)\n",
    "print(scoreList)"
   ]
  },
  {
   "cell_type": "code",
   "execution_count": 64,
   "metadata": {},
   "outputs": [],
   "source": [
    "k_trials = [1, 2, 3, 4, 5, 11, 21, 31, 51, 71, 91, 101, 151, 201, 251]\n",
    "            \n",
    "weights = ['uniform', 'distance']\n",
    "\n",
    "algorithms = ['kd_tree', 'ball_tree']\n",
    "\n",
    "predictionList = []\n",
    "scoreList = []\n",
    "\n",
    "for k in k_trials:\n",
    "    for w in weights:\n",
    "        for a in algorithms:\n",
    "            knn = neighbors.KNeighborsRegressor(k, weights=w, algorithm=a)\n",
    "            predictions = knn.fit(trainLX, trainLY).predict(cross2)\n",
    "            predictions = predictions.flatten()\n",
    "            predictionList.append('KNN-K'+str(k)+'-'+w+'-'+a)\n",
    "            score = mean_squared_error(crossValidation['price'].values, predictions)\n",
    "            scoreList.append(score)"
   ]
  },
  {
   "cell_type": "code",
   "execution_count": 67,
   "metadata": {},
   "outputs": [
    {
     "data": {
      "text/html": [
       "<div>\n",
       "<style>\n",
       "    .dataframe thead tr:only-child th {\n",
       "        text-align: right;\n",
       "    }\n",
       "\n",
       "    .dataframe thead th {\n",
       "        text-align: left;\n",
       "    }\n",
       "\n",
       "    .dataframe tbody tr th {\n",
       "        vertical-align: top;\n",
       "    }\n",
       "</style>\n",
       "<table border=\"1\" class=\"dataframe\">\n",
       "  <thead>\n",
       "    <tr style=\"text-align: right;\">\n",
       "      <th></th>\n",
       "      <th>parametros</th>\n",
       "      <th>score</th>\n",
       "    </tr>\n",
       "  </thead>\n",
       "  <tbody>\n",
       "    <tr>\n",
       "      <th>17</th>\n",
       "      <td>KNN-K5-uniform-ball_tree</td>\n",
       "      <td>1.047778e+12</td>\n",
       "    </tr>\n",
       "    <tr>\n",
       "      <th>16</th>\n",
       "      <td>KNN-K5-uniform-kd_tree</td>\n",
       "      <td>1.048931e+12</td>\n",
       "    </tr>\n",
       "    <tr>\n",
       "      <th>20</th>\n",
       "      <td>KNN-K11-uniform-kd_tree</td>\n",
       "      <td>1.115877e+12</td>\n",
       "    </tr>\n",
       "    <tr>\n",
       "      <th>21</th>\n",
       "      <td>KNN-K11-uniform-ball_tree</td>\n",
       "      <td>1.116197e+12</td>\n",
       "    </tr>\n",
       "    <tr>\n",
       "      <th>59</th>\n",
       "      <td>KNN-K251-distance-ball_tree</td>\n",
       "      <td>1.173916e+12</td>\n",
       "    </tr>\n",
       "    <tr>\n",
       "      <th>58</th>\n",
       "      <td>KNN-K251-distance-kd_tree</td>\n",
       "      <td>1.173921e+12</td>\n",
       "    </tr>\n",
       "    <tr>\n",
       "      <th>55</th>\n",
       "      <td>KNN-K201-distance-ball_tree</td>\n",
       "      <td>1.174524e+12</td>\n",
       "    </tr>\n",
       "    <tr>\n",
       "      <th>54</th>\n",
       "      <td>KNN-K201-distance-kd_tree</td>\n",
       "      <td>1.174529e+12</td>\n",
       "    </tr>\n",
       "    <tr>\n",
       "      <th>50</th>\n",
       "      <td>KNN-K151-distance-kd_tree</td>\n",
       "      <td>1.178054e+12</td>\n",
       "    </tr>\n",
       "    <tr>\n",
       "      <th>51</th>\n",
       "      <td>KNN-K151-distance-ball_tree</td>\n",
       "      <td>1.178088e+12</td>\n",
       "    </tr>\n",
       "    <tr>\n",
       "      <th>26</th>\n",
       "      <td>KNN-K21-distance-kd_tree</td>\n",
       "      <td>1.180602e+12</td>\n",
       "    </tr>\n",
       "    <tr>\n",
       "      <th>46</th>\n",
       "      <td>KNN-K101-distance-kd_tree</td>\n",
       "      <td>1.187059e+12</td>\n",
       "    </tr>\n",
       "    <tr>\n",
       "      <th>47</th>\n",
       "      <td>KNN-K101-distance-ball_tree</td>\n",
       "      <td>1.187069e+12</td>\n",
       "    </tr>\n",
       "    <tr>\n",
       "      <th>43</th>\n",
       "      <td>KNN-K91-distance-ball_tree</td>\n",
       "      <td>1.190562e+12</td>\n",
       "    </tr>\n",
       "    <tr>\n",
       "      <th>42</th>\n",
       "      <td>KNN-K91-distance-kd_tree</td>\n",
       "      <td>1.190629e+12</td>\n",
       "    </tr>\n",
       "    <tr>\n",
       "      <th>39</th>\n",
       "      <td>KNN-K71-distance-ball_tree</td>\n",
       "      <td>1.200681e+12</td>\n",
       "    </tr>\n",
       "    <tr>\n",
       "      <th>38</th>\n",
       "      <td>KNN-K71-distance-kd_tree</td>\n",
       "      <td>1.200707e+12</td>\n",
       "    </tr>\n",
       "    <tr>\n",
       "      <th>22</th>\n",
       "      <td>KNN-K11-distance-kd_tree</td>\n",
       "      <td>1.207905e+12</td>\n",
       "    </tr>\n",
       "    <tr>\n",
       "      <th>23</th>\n",
       "      <td>KNN-K11-distance-ball_tree</td>\n",
       "      <td>1.208450e+12</td>\n",
       "    </tr>\n",
       "    <tr>\n",
       "      <th>34</th>\n",
       "      <td>KNN-K51-distance-kd_tree</td>\n",
       "      <td>1.211337e+12</td>\n",
       "    </tr>\n",
       "  </tbody>\n",
       "</table>\n",
       "</div>"
      ],
      "text/plain": [
       "                     parametros         score\n",
       "17     KNN-K5-uniform-ball_tree  1.047778e+12\n",
       "16       KNN-K5-uniform-kd_tree  1.048931e+12\n",
       "20      KNN-K11-uniform-kd_tree  1.115877e+12\n",
       "21    KNN-K11-uniform-ball_tree  1.116197e+12\n",
       "59  KNN-K251-distance-ball_tree  1.173916e+12\n",
       "58    KNN-K251-distance-kd_tree  1.173921e+12\n",
       "55  KNN-K201-distance-ball_tree  1.174524e+12\n",
       "54    KNN-K201-distance-kd_tree  1.174529e+12\n",
       "50    KNN-K151-distance-kd_tree  1.178054e+12\n",
       "51  KNN-K151-distance-ball_tree  1.178088e+12\n",
       "26     KNN-K21-distance-kd_tree  1.180602e+12\n",
       "46    KNN-K101-distance-kd_tree  1.187059e+12\n",
       "47  KNN-K101-distance-ball_tree  1.187069e+12\n",
       "43   KNN-K91-distance-ball_tree  1.190562e+12\n",
       "42     KNN-K91-distance-kd_tree  1.190629e+12\n",
       "39   KNN-K71-distance-ball_tree  1.200681e+12\n",
       "38     KNN-K71-distance-kd_tree  1.200707e+12\n",
       "22     KNN-K11-distance-kd_tree  1.207905e+12\n",
       "23   KNN-K11-distance-ball_tree  1.208450e+12\n",
       "34     KNN-K51-distance-kd_tree  1.211337e+12"
      ]
     },
     "execution_count": 67,
     "metadata": {},
     "output_type": "execute_result"
    }
   ],
   "source": [
    "resultados = pd.DataFrame()\n",
    "resultados['parametros'] = predictionList\n",
    "resultados['score'] = scoreList\n",
    "rOrder = resultados.sort_values('score',ascending= True)\n",
    "rOrder.head(20)"
   ]
  },
  {
   "cell_type": "code",
   "execution_count": null,
   "metadata": {
    "collapsed": true
   },
   "outputs": [],
   "source": []
  }
 ],
 "metadata": {
  "kernelspec": {
   "display_name": "Python 2",
   "language": "python",
   "name": "python2"
  },
  "language_info": {
   "codemirror_mode": {
    "name": "ipython",
    "version": 2
   },
   "file_extension": ".py",
   "mimetype": "text/x-python",
   "name": "python",
   "nbconvert_exporter": "python",
   "pygments_lexer": "ipython2",
   "version": "2.7.13"
  }
 },
 "nbformat": 4,
 "nbformat_minor": 2
}
